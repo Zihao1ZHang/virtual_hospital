{
 "cells": [
  {
   "cell_type": "code",
   "execution_count": 2,
   "metadata": {},
   "outputs": [],
   "source": [
    "import os\n",
    "import json\n",
    "from langchain.prompts import load_prompt\n",
    "from langchain.chains import LLMChain\n",
    "from langchain_openai import ChatOpenAI\n",
    "from dotenv import load_dotenv\n",
    "import json\n",
    "import re\n",
    "from tqdm import tqdm\n",
    "\n",
    "def polish(conversation: str):\n",
    "    prompt = load_prompt(\"prompts/Virtual_hospital/conversation_polish.yaml\")\n",
    "    llm = ChatOpenAI(model_name=\"gpt-4o-mini\", temperature=0)\n",
    "    chain = LLMChain(llm=llm, prompt=prompt, verbose=False)\n",
    "    response = chain.invoke({\"conversation\": conversation})\n",
    "    return response[\"text\"]"
   ]
  },
  {
   "cell_type": "code",
   "execution_count": 7,
   "metadata": {},
   "outputs": [
    {
     "name": "stderr",
     "output_type": "stream",
     "text": [
      "100%|██████████| 5070/5070 [28:07:05<00:00, 19.97s/it]    \n"
     ]
    }
   ],
   "source": [
    "output_dir = \"data/SFT_dataset/conversation\"\n",
    "for filename in tqdm(os.listdir(\"data/virtual_hospital/Conversation/\")):\n",
    "\n",
    "    if os.path.exists(f\"{output_dir}/{filename}\"):\n",
    "        continue\n",
    "    file = f\"data/virtual_hospital/Conversation/{filename}\"\n",
    "    with open(file, \"r\", encoding='latin1') as f:\n",
    "        conversation = f.read()\n",
    "    # print(conversation)\n",
    "    output = polish(conversation)\n",
    "    # print(output)\n",
    "    with open(f\"{output_dir}/{filename}\", 'w') as f:\n",
    "        f.write(output)"
   ]
  }
 ],
 "metadata": {
  "kernelspec": {
   "display_name": "VirtualHospital",
   "language": "python",
   "name": "python3"
  },
  "language_info": {
   "codemirror_mode": {
    "name": "ipython",
    "version": 3
   },
   "file_extension": ".py",
   "mimetype": "text/x-python",
   "name": "python",
   "nbconvert_exporter": "python",
   "pygments_lexer": "ipython3",
   "version": "3.9.19"
  }
 },
 "nbformat": 4,
 "nbformat_minor": 2
}
